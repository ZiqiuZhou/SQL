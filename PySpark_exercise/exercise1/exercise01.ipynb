{
 "cells": [
  {
   "cell_type": "code",
   "execution_count": 82,
   "metadata": {},
   "outputs": [],
   "source": [
    "from pyspark.sql import SparkSession\n",
    "from pyspark.sql.types import *\n",
    "from pyspark.sql.functions import *\n",
    "from pyspark.sql import Row\n",
    "import numpy as np"
   ]
  },
  {
   "cell_type": "code",
   "execution_count": 46,
   "metadata": {},
   "outputs": [],
   "source": [
    "spark = SparkSession \\\n",
    ".builder \\\n",
    ".appName(\"Python Spark SQL basic example\") \\\n",
    ".config(\"spark.some.config.option\", \"some-value\") \\\n",
    ".getOrCreate()\n"
   ]
  },
  {
   "cell_type": "code",
   "execution_count": 142,
   "metadata": {},
   "outputs": [],
   "source": [
    "sc = spark.sparkContext\n",
    "\n",
    "schemaString = [\"age\", \"workclass\", \"fnlwgt\", \n",
    "                \"education\", \"education-num\", \"marital-status\",\n",
    "                \"occupation\", \"relationship\", \"race\", \"sex\", \n",
    "                \"capital-gain\", \"capital-loss\", \"hours-per-week\", \"native-country\", \"income\"]\n",
    "\"\"\"\n",
    "typeString = [IntegerType(), StringType(), IntegerType(), \n",
    "              StringType(), IntegerType(), StringType(), StringType(), \n",
    "             StringType(), StringType(), StringType(), IntegerType(), \n",
    "              IntegerType(), IntegerType(), StringType(), StringType()]\n",
    "\"\"\"\n",
    "\n",
    "lines = sc.textFile(\"datasets/adult.data\")\n",
    "parts = lines.map(lambda l: l.split(\",\")).filter(lambda x: len(x) == len(schemaString))\n",
    "parts = parts.map(lambda p: [p[i].strip() for i in range(len(schemaString))])\n",
    "fields = [StructField(field_name, StringType(), True) for field_name in schemaString]\n",
    "schema = StructType(fields)\n",
    "\n",
    "df = spark.createDataFrame(parts, schema)\n",
    "\n",
    "df = df.withColumn(\"age\", col(\"age\").cast(IntegerType()))\n",
    "df = df.withColumn(\"fnlwgt\", col(\"fnlwgt\").cast(IntegerType()))\n",
    "df = df.withColumn(\"education-num\", col(\"education-num\").cast(IntegerType()))\n",
    "df = df.withColumn(\"capital-gain\", col(\"capital-gain\").cast(IntegerType()))\n",
    "df = df.withColumn(\"capital-loss\", col(\"capital-loss\").cast(IntegerType()))\n",
    "df = df.withColumn(\"hours-per-week\", col(\"hours-per-week\").cast(IntegerType()))"
   ]
  },
  {
   "cell_type": "code",
   "execution_count": 143,
   "metadata": {},
   "outputs": [
    {
     "name": "stdout",
     "output_type": "stream",
     "text": [
      "(32561, 15)\n",
      "+---+----------------+------+---------+-------------+--------------------+-----------------+-------------+-----+------+------------+------------+--------------+--------------+------+\n",
      "|age|       workclass|fnlwgt|education|education-num|      marital-status|       occupation| relationship| race|   sex|capital-gain|capital-loss|hours-per-week|native-country|income|\n",
      "+---+----------------+------+---------+-------------+--------------------+-----------------+-------------+-----+------+------------+------------+--------------+--------------+------+\n",
      "| 39|       State-gov| 77516|Bachelors|           13|       Never-married|     Adm-clerical|Not-in-family|White|  Male|        2174|           0|            40| United-States| <=50K|\n",
      "| 50|Self-emp-not-inc| 83311|Bachelors|           13|  Married-civ-spouse|  Exec-managerial|      Husband|White|  Male|           0|           0|            13| United-States| <=50K|\n",
      "| 38|         Private|215646|  HS-grad|            9|            Divorced|Handlers-cleaners|Not-in-family|White|  Male|           0|           0|            40| United-States| <=50K|\n",
      "| 53|         Private|234721|     11th|            7|  Married-civ-spouse|Handlers-cleaners|      Husband|Black|  Male|           0|           0|            40| United-States| <=50K|\n",
      "| 28|         Private|338409|Bachelors|           13|  Married-civ-spouse|   Prof-specialty|         Wife|Black|Female|           0|           0|            40|          Cuba| <=50K|\n",
      "| 37|         Private|284582|  Masters|           14|  Married-civ-spouse|  Exec-managerial|         Wife|White|Female|           0|           0|            40| United-States| <=50K|\n",
      "| 49|         Private|160187|      9th|            5|Married-spouse-ab...|    Other-service|Not-in-family|Black|Female|           0|           0|            16|       Jamaica| <=50K|\n",
      "| 52|Self-emp-not-inc|209642|  HS-grad|            9|  Married-civ-spouse|  Exec-managerial|      Husband|White|  Male|           0|           0|            45| United-States|  >50K|\n",
      "| 31|         Private| 45781|  Masters|           14|       Never-married|   Prof-specialty|Not-in-family|White|Female|       14084|           0|            50| United-States|  >50K|\n",
      "| 42|         Private|159449|Bachelors|           13|  Married-civ-spouse|  Exec-managerial|      Husband|White|  Male|        5178|           0|            40| United-States|  >50K|\n",
      "+---+----------------+------+---------+-------------+--------------------+-----------------+-------------+-----+------+------------+------------+--------------+--------------+------+\n",
      "only showing top 10 rows\n",
      "\n"
     ]
    }
   ],
   "source": [
    "print((df.count(), len(df.columns)))\n",
    "df.show(10)"
   ]
  },
  {
   "cell_type": "markdown",
   "metadata": {},
   "source": [
    "(a)"
   ]
  },
  {
   "cell_type": "code",
   "execution_count": 144,
   "metadata": {},
   "outputs": [],
   "source": [
    "df_marital = df.groupBy(\"marital-status\").count()\n",
    "df_marital_sex_male = df.groupBy(\"marital-status\", \"sex\").count().where(col(\"sex\") == \"Male\")\n",
    "df_ratio = df_marital_sex_male.join(df_marital, \"marital-status\").select(df_marital_sex_male[\"marital-status\"],\n",
    "                    df_marital_sex_male[\"count\"] / df_marital[\"count\"]).withColumnRenamed(\"(count / count)\", \"ratio\")"
   ]
  },
  {
   "cell_type": "code",
   "execution_count": 145,
   "metadata": {},
   "outputs": [
    {
     "name": "stdout",
     "output_type": "stream",
     "text": [
      "+--------------------+-------------------+\n",
      "|      marital-status|              ratio|\n",
      "+--------------------+-------------------+\n",
      "|           Separated|0.38439024390243903|\n",
      "|       Never-married| 0.5537770289244595|\n",
      "|Married-spouse-ab...| 0.5095693779904307|\n",
      "|            Divorced|0.39860454647760524|\n",
      "|             Widowed| 0.1691842900302115|\n",
      "|   Married-AF-spouse|  0.391304347826087|\n",
      "|  Married-civ-spouse| 0.8893563034188035|\n",
      "+--------------------+-------------------+\n",
      "\n"
     ]
    }
   ],
   "source": [
    "df_ratio.show()"
   ]
  },
  {
   "cell_type": "markdown",
   "metadata": {},
   "source": [
    "(b)"
   ]
  },
  {
   "cell_type": "code",
   "execution_count": 159,
   "metadata": {},
   "outputs": [
    {
     "name": "stdout",
     "output_type": "stream",
     "text": [
      "+------------------+----------------------+\n",
      "|    native-country|average hours_per_week|\n",
      "+------------------+----------------------+\n",
      "|            Greece|                  65.0|\n",
      "|          Honduras|                  60.0|\n",
      "|             South|    56.666666666666664|\n",
      "|          Thailand|                  50.0|\n",
      "|Dominican-Republic|                  47.0|\n",
      "|            Canada|    46.111111111111114|\n",
      "|            France|                  45.0|\n",
      "|            Poland|                  45.0|\n",
      "|          Portugal|                  43.0|\n",
      "|             Italy|                  42.0|\n",
      "|     United-States|    40.492537313432834|\n",
      "|       Philippines|    40.083333333333336|\n",
      "|           Hungary|                  40.0|\n",
      "|       El-Salvador|                  40.0|\n",
      "|              Iran|                  40.0|\n",
      "|              Hong|                  40.0|\n",
      "|           Ireland|                  40.0|\n",
      "|        Yugoslavia|                  40.0|\n",
      "|          Scotland|                  40.0|\n",
      "|              Laos|                  40.0|\n",
      "+------------------+----------------------+\n",
      "only showing top 20 rows\n",
      "\n"
     ]
    }
   ],
   "source": [
    "df.where(col(\"sex\") == \"Female\").where(col(\"income\") == \">50K\")\\\n",
    "    .groupBy(df[\"native-country\"]).avg(\"hours-per-week\")\\\n",
    "    .withColumnRenamed(\"avg(hours-per-week)\", \"average hours_per_week\")\\\n",
    "    .sort(\"average hours_per_week\", ascending=False).show()"
   ]
  },
  {
   "cell_type": "markdown",
   "metadata": {},
   "source": [
    "(d)"
   ]
  },
  {
   "cell_type": "code",
   "execution_count": 160,
   "metadata": {},
   "outputs": [
    {
     "name": "stdout",
     "output_type": "stream",
     "text": [
      "+------+-----------------+----------------+\n",
      "|income|highest_education|lowest_education|\n",
      "+------+-----------------+----------------+\n",
      "| <=50K|               16|               1|\n",
      "|  >50K|               16|               2|\n",
      "+------+-----------------+----------------+\n",
      "\n"
     ]
    }
   ],
   "source": [
    "df.groupBy(\"income\").agg(max(\"education-num\").alias(\"highest_education\"),\\\n",
    "                        min(\"education-num\").alias(\"lowest_education\")).show()"
   ]
  },
  {
   "cell_type": "code",
   "execution_count": null,
   "metadata": {},
   "outputs": [],
   "source": []
  }
 ],
 "metadata": {
  "kernelspec": {
   "display_name": "Python 3",
   "language": "python",
   "name": "python3"
  },
  "language_info": {
   "codemirror_mode": {
    "name": "ipython",
    "version": 3
   },
   "file_extension": ".py",
   "mimetype": "text/x-python",
   "name": "python",
   "nbconvert_exporter": "python",
   "pygments_lexer": "ipython3",
   "version": "3.7.6"
  },
  "toc": {
   "base_numbering": 1,
   "nav_menu": {},
   "number_sections": true,
   "sideBar": true,
   "skip_h1_title": false,
   "title_cell": "Table of Contents",
   "title_sidebar": "Contents",
   "toc_cell": false,
   "toc_position": {},
   "toc_section_display": true,
   "toc_window_display": false
  }
 },
 "nbformat": 4,
 "nbformat_minor": 4
}
