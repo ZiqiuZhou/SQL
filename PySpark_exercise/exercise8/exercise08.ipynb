{
 "cells": [
  {
   "cell_type": "code",
   "execution_count": 1,
   "metadata": {},
   "outputs": [],
   "source": [
    "from pyspark.sql import SparkSession, Row\n",
    "from pyspark.sql.types import *\n",
    "from pyspark.sql.functions import *\n",
    "import numpy as np"
   ]
  },
  {
   "cell_type": "code",
   "execution_count": 38,
   "metadata": {},
   "outputs": [],
   "source": [
    "spark = SparkSession \\\n",
    ".builder \\\n",
    ".appName(\"Python Spark SQL basic example\") \\\n",
    ".config(\"spark.some.config.option\", \"some-value\") \\\n",
    ".getOrCreate()\n",
    "\n",
    "sc = spark.sparkContext"
   ]
  },
  {
   "cell_type": "markdown",
   "metadata": {},
   "source": [
    "(a)"
   ]
  },
  {
   "cell_type": "code",
   "execution_count": 72,
   "metadata": {},
   "outputs": [],
   "source": [
    "def create_dataframe(fileName):\n",
    "    schema_price = [\"Price\", \"Timestamp\", \"InstanceType\",\n",
    "                    \"ProductDescription\", \"AvailabilityZone\"]\n",
    "    lines = sc.textFile(fileName)\n",
    "    header = lines.first()\n",
    "    lines = lines.filter(lambda l :not str(l).startswith(header)) # drop header\n",
    "    # drop the first col in RDD\n",
    "    parts = lines.map(lambda l: l.split(\"\\t\")[1:]).filter(lambda l: len(l) == len(schema_price))\n",
    "    \n",
    "    parts = parts.map(lambda p: [p[i].strip() for i in range(len(schema_price))])\n",
    "    \n",
    "    fields = [StructField(field_name, StringType(), True) for field_name in schema_price]\n",
    "    schema = StructType(fields)\n",
    "    \n",
    "    df_price = spark.createDataFrame(parts, schema_price)\n",
    "    df_price = df_price.withColumn(\"Price\", col(\"Price\").cast(FloatType()))\n",
    "    df_price = df_price.withColumn(\"Timestamp\", to_timestamp(\"Timestamp\", \"yyyy-MM-dd'T'HH:mm:ssZ\"))\n",
    "\n",
    "    return df_price"
   ]
  },
  {
   "cell_type": "code",
   "execution_count": 73,
   "metadata": {},
   "outputs": [
    {
     "name": "stdout",
     "output_type": "stream",
     "text": [
      "106340\n",
      "+-------+-------------------+------------+------------------+----------------+\n",
      "|  Price|          Timestamp|InstanceType|ProductDescription|AvailabilityZone|\n",
      "+-------+-------------------+------------+------------------+----------------+\n",
      "| 0.2656|2019-05-24 03:26:23|  m5.2xlarge|        SUSE Linux|   eu-central-1c|\n",
      "| 0.1656|2019-05-24 03:26:23|  m5.2xlarge|        Linux/UNIX|   eu-central-1c|\n",
      "| 0.9046|2019-05-24 03:25:54| c5n.9xlarge|        SUSE Linux|   eu-central-1a|\n",
      "| 0.8046|2019-05-24 03:25:54| c5n.9xlarge|        Linux/UNIX|   eu-central-1a|\n",
      "|23.2913|2019-05-24 03:25:50|x1e.32xlarge|           Windows|   eu-central-1a|\n",
      "| 0.1702|2019-05-24 03:25:47|   c5.xlarge|        SUSE Linux|   eu-central-1c|\n",
      "| 0.0702|2019-05-24 03:25:47|   c5.xlarge|        Linux/UNIX|   eu-central-1c|\n",
      "| 0.2326|2019-05-24 03:16:57| c5n.2xlarge|        SUSE Linux|   eu-central-1b|\n",
      "| 0.1326|2019-05-24 03:16:57| c5n.2xlarge|        Linux/UNIX|   eu-central-1b|\n",
      "| 2.0056|2019-05-24 03:09:48|  d2.8xlarge|        SUSE Linux|   eu-central-1c|\n",
      "| 1.9056|2019-05-24 03:09:48|  d2.8xlarge|        Linux/UNIX|   eu-central-1c|\n",
      "| 0.5311|2019-05-24 03:09:45|   p2.xlarge|        SUSE Linux|   eu-central-1a|\n",
      "| 0.4311|2019-05-24 03:09:45|   p2.xlarge|        Linux/UNIX|   eu-central-1a|\n",
      "| 3.4343|2019-05-24 03:09:35| x1.16xlarge|        SUSE Linux|   eu-central-1a|\n",
      "| 3.3343|2019-05-24 03:09:35| x1.16xlarge|        Linux/UNIX|   eu-central-1a|\n",
      "| 1.2187|2019-05-24 03:09:23| r4.16xlarge|        SUSE Linux|   eu-central-1a|\n",
      "| 1.1187|2019-05-24 03:09:23| r4.16xlarge|        Linux/UNIX|   eu-central-1a|\n",
      "| 0.3943|2019-05-24 03:09:13|  c4.4xlarge|        SUSE Linux|   eu-central-1a|\n",
      "| 0.2943|2019-05-24 03:09:13|  c4.4xlarge|        Linux/UNIX|   eu-central-1a|\n",
      "| 0.1895|2019-05-24 03:09:13|   c5.xlarge|        SUSE Linux|   eu-central-1b|\n",
      "+-------+-------------------+------------+------------------+----------------+\n",
      "only showing top 20 rows\n",
      "\n"
     ]
    }
   ],
   "source": [
    "filename = \"dataset-EC2-series/prices-eu-central-1-2019-05-24.txt.gz\"\n",
    "df = create_dataframe(filename)\n",
    "print(df.count())\n",
    "df.show(20)"
   ]
  },
  {
   "cell_type": "markdown",
   "metadata": {},
   "source": [
    "(b)"
   ]
  },
  {
   "cell_type": "code",
   "execution_count": 81,
   "metadata": {},
   "outputs": [
    {
     "name": "stdout",
     "output_type": "stream",
     "text": [
      "+------------+------------------+------------------+\n",
      "|InstanceType|ProductDescription|         avg_price|\n",
      "+------------+------------------+------------------+\n",
      "|x1e.32xlarge|           Windows| 41.29813147179874|\n",
      "|x1e.32xlarge|        SUSE Linux| 35.45298683352587|\n",
      "|x1e.32xlarge|        Linux/UNIX|35.352987929088314|\n",
      "| p3.16xlarge|           Windows|28.689710946083068|\n",
      "| p3.16xlarge|        SUSE Linux|25.567980808577513|\n",
      "| p3.16xlarge|        Linux/UNIX| 25.46798058683649|\n",
      "| x1.32xlarge|           Windows|19.008055222709224|\n",
      "|x1e.16xlarge|           Windows| 18.74707821100065|\n",
      "| p2.16xlarge|           Windows| 17.91937599834214|\n",
      "|x1e.16xlarge|        SUSE Linux|15.755645188630796|\n",
      "|x1e.16xlarge|        Linux/UNIX|15.655646125475565|\n",
      "| p2.16xlarge|        SUSE Linux| 15.07459573664217|\n",
      "| p2.16xlarge|        Linux/UNIX|14.974595607855381|\n",
      "| x1.32xlarge|        SUSE Linux|13.192031178651032|\n",
      "| x1.32xlarge|        Linux/UNIX|13.092031014407123|\n",
      "|  p3.8xlarge|           Windows|12.943963282448905|\n",
      "|  p2.8xlarge|           Windows|12.079999923706055|\n",
      "|   r5d.metal|           Windows|11.620468645540189|\n",
      "|  p3.8xlarge|        SUSE Linux|11.570584313150798|\n",
      "|  p3.8xlarge|        Linux/UNIX|11.470584146143716|\n",
      "|  p2.8xlarge|        SUSE Linux|10.708000183105469|\n",
      "|  p2.8xlarge|        Linux/UNIX|10.607999801635742|\n",
      "|r5d.24xlarge|           Windows| 9.272294353665854|\n",
      "| x1.16xlarge|           Windows| 7.864099648373186|\n",
      "| g3.16xlarge|           Windows| 7.743541492699341|\n",
      "| x1e.8xlarge|           Windows| 7.511979314588731|\n",
      "|r5a.24xlarge|           Windows| 7.467626291571311|\n",
      "|   r5d.metal|        SUSE Linux|7.2296341088972325|\n",
      "|   r5d.metal|        Linux/UNIX| 7.129633849585435|\n",
      "|m5a.24xlarge|           Windows| 7.050740474309677|\n",
      "|   m5d.metal|           Windows| 6.738183996894143|\n",
      "|   z1d.metal|           Windows| 6.736894736551259|\n",
      "|m5d.24xlarge|           Windows| 6.326131640128719|\n",
      "| r5.24xlarge|           Windows| 6.166600227355957|\n",
      "| x1e.8xlarge|        SUSE Linux| 6.130281816567144|\n",
      "|z1d.12xlarge|           Windows| 6.087579395089831|\n",
      "| m5.24xlarge|           Windows| 6.086999893188477|\n",
      "| x1e.8xlarge|        Linux/UNIX|   6.0302820080711|\n",
      "|r5d.12xlarge|           Windows| 5.634974078337351|\n",
      "|    r5.metal|           Windows| 5.583000183105469|\n",
      "|    m5.metal|           Windows|  5.53000020980835|\n",
      "|r5a.12xlarge|           Windows| 5.054723168786708|\n",
      "| x1.16xlarge|        SUSE Linux| 5.018787272182512|\n",
      "|r5d.24xlarge|        SUSE Linux| 4.960507248234808|\n",
      "| g3.16xlarge|        SUSE Linux| 4.959674857792101|\n",
      "| x1.16xlarge|        Linux/UNIX| 4.918787227246006|\n",
      "|r5d.24xlarge|        Linux/UNIX| 4.860507174106153|\n",
      "| g3.16xlarge|        Linux/UNIX| 4.859674618118688|\n",
      "| i3.16xlarge|           Windows| 4.729846497285202|\n",
      "|    i3.metal|           Windows| 4.729599952697754|\n",
      "+------------+------------------+------------------+\n",
      "only showing top 50 rows\n",
      "\n"
     ]
    }
   ],
   "source": [
    "df.groupBy(['InstanceType', df.ProductDescription]).agg(avg(\"Price\").alias(\"avg_price\"))\\\n",
    "            .sort(\"avg_price\", ascending=False).show(50)"
   ]
  }
 ],
 "metadata": {
  "kernelspec": {
   "display_name": "Python 3",
   "language": "python",
   "name": "python3"
  },
  "language_info": {
   "codemirror_mode": {
    "name": "ipython",
    "version": 3
   },
   "file_extension": ".py",
   "mimetype": "text/x-python",
   "name": "python",
   "nbconvert_exporter": "python",
   "pygments_lexer": "ipython3",
   "version": "3.7.6"
  },
  "toc": {
   "base_numbering": 1,
   "nav_menu": {},
   "number_sections": true,
   "sideBar": true,
   "skip_h1_title": false,
   "title_cell": "Table of Contents",
   "title_sidebar": "Contents",
   "toc_cell": false,
   "toc_position": {},
   "toc_section_display": true,
   "toc_window_display": false
  }
 },
 "nbformat": 4,
 "nbformat_minor": 4
}
